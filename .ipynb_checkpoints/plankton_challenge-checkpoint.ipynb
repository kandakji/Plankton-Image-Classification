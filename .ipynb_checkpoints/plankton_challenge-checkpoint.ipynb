{
 "cells": [
  {
   "cell_type": "markdown",
   "metadata": {},
   "source": [
    "<h3>Algorithmic Machine Learning Challenge</h3>\n",
    "<h1>Plankton Image Classification</h1>\n",
    "<hr style=\"height:2px;border:none;color:#333;background-color:#333;\"/>"
   ]
  },
  {
   "cell_type": "markdown",
   "metadata": {},
   "source": [
    "Plankton comprises all the organisms freely drifting with ocean currents. These life forms are a critically important piece of oceanic ecosystems, accounting for more than half the primary production on earth and nearly half the total carbon fixed in the global carbon cycle. They also form the foundation of aquatic food webs, including those of large, commercially important fisheries. Loss of plankton populations could result in ecological upheaval as well as negative societal impacts, particularly in indigenous cultures and the developing world. Plankton’s global significance makes their population levels an ideal measure of the health of the world’s oceans and ecosystems.\n",
    "\n",
    "Traditional methods for measuring and monitoring plankton populations are time consuming and cannot scale to the granularity or scope necessary for large-scale studies. Improved approaches are needed. One such approach is through the use of underwater imagery sensors. \n",
    "\n",
    "In this challenge, which was prepared in cooperation with the Laboratoire d’Océanographie de Villefranche, jointly run by Sorbonne Université and CNRS, plankton images were acquired in the bay of Villefranche, weekly since 2013 and manually engineered features were computed on each imaged object. \n",
    "\n",
    "This challenge aims at developing solid approaches to plankton image classification. We will compare methods based on carefully (but manually) engineered features, with “Deep Learning” methods in which features will be learned from image data alone.\n",
    "\n",
    "The purpose of this challenge is for you to learn about the commonly used paradigms when working with computer vision problems. This means you can choose one of the following paths:\n",
    "\n",
    "- Work directly with the provided images, e.g. using a (convolutional) neural network\n",
    "- Work with the supplied features extracted from the images (*native* or *skimage* or both of them)\n",
    "- Extract your own features from the provided images using a technique of your choice\n",
    "\n",
    "You will find a detailed description about the image data and the features at the end of this text.\n",
    "In any case, the choice of the classifier that you decide to work with strongly depends on the choice of features.\n",
    "\n",
    "Please bear in mind that the purpose of this challenge is not simply to find the best-performing model that was released on e.g. Kaggle for a similar problem. You should rather make sure to understand the dificulties that come with this computer vision task. Moreover, you should be able to justify your choice of features/model and be able to explain its advantages and disadvantages for the task."
   ]
  },
  {
   "cell_type": "markdown",
   "metadata": {},
   "source": [
    "# Overview\n",
    "<hr style=\"height:1px;border:none;color:#333;background-color:#333;\" />    "
   ]
  },
  {
   "cell_type": "markdown",
   "metadata": {},
   "source": [
    "Beyond simply producing a well-performing model for making predictions, in this challenge we would like you to start developing your skills as a machine learning scientist.\n",
    "In this regard, your notebook should be structured in such a way as to explore the five following tasks that are expected to be carried out whenever undertaking such a project.\n",
    "The description below each aspect should serve as a guide for your work, but you are strongly encouraged to also explore alternative options and directions. \n",
    "Thinking outside the box will always be rewarded in these challenges."
   ]
  },
  {
   "cell_type": "markdown",
   "metadata": {},
   "source": [
    "<div class=\"\">\n",
    "    <h3>1. Data Exploration</h3>\n",
    "</div>"
   ]
  },
  {
   "cell_type": "markdown",
   "metadata": {},
   "source": [
    "The first broad component of your notebook should enable you to familiarise yourselves with the given data, an outline of which is given at the end of this challenge specification.\n",
    "\n",
    "What is new in this challenge is that you will be working with image data. Therefore, you should have a look at example images located in the *imgs.zip* file (see description below). If you decide to work with the native or the skimage features, make sure to understand them!\n",
    "\n",
    "Among others, this section should investigate:\n",
    "\n",
    "- Distribution of the different image dimensions (including the number of channels)\n",
    "- Distribution of the different labels that the images are assigned to\n",
    "\n",
    "The image labels are organized in a taxonomy. We will measure the final model performance for the classification into the *level2* categories. Make sure to understand the meaning of this label inside the taxonomy."
   ]
  },
  {
   "cell_type": "markdown",
   "metadata": {},
   "source": [
    "<div class=\"\">\n",
    "    <h3>2. Data Pre-processing</h3>\n",
    "</div>"
   ]
  },
  {
   "cell_type": "markdown",
   "metadata": {},
   "source": [
    "The previous step should give you a better understanding of which pre-processing is required for the data based on your approach:\n",
    "\n",
    "- If you decide to work with the provided features, some data cleaning may be required to make full use of all the data.\n",
    "- If you decide to extract your own features from the images, you should explain your approach in this section.\n",
    "- If you decide to work directly with the images themselves, preprocessing the images may improve your classification results. In particular, if you work with a neural network the following should be of interest to you:\n",
    "\n",
    "  - Due to the fully-connected layers (that usually come after the convolutional ones), the input needs to have a fixed dimension.\n",
    "  - Data augmentation (image rotation, scaling, cropping, etc. of the existing images) can be used to increase the size of the training data set. This may improve performance especially when little data is available for a particular class.\n",
    "  - Be aware of the computational cost! It might be worth rescaling the images to a smaller size!\n",
    "\n",
    "  All of the operations above are usually realized using a dataloader. This means that you do not need to create a modified version of the dataset and save it to disk. Instead, the dataloader processes the data \"on the fly\" and in-memory before passing it to the network.\n",
    "  \n",
    "    NB: Although aligning image sizes is necessary to train CNNs, this will prevent your classifier from learning about different object sizes as a feature. Additional gains may be achieved when also taking object sizes into account."
   ]
  },
  {
   "cell_type": "markdown",
   "metadata": {},
   "source": [
    "<div class=\"\">\n",
    "    <h3>3. Model Selection</h3>\n",
    "</div>"
   ]
  },
  {
   "cell_type": "markdown",
   "metadata": {},
   "source": [
    "Perhaps the most important segment of this challenge involves the selection of a model that can successfully handle the given data and yield sensible predictions.\n",
    "Instead of focusing exclusively on your final chosen model, it is also important to share your thought process in this notebook by additionally describing alternative candidate models.\n",
    "\n",
    "The choice of your model is closely connected to the way you preprocessed the input data.\n",
    "\n",
    "Furthermore, there are other factors which may influence your decision:\n",
    "\n",
    "- What is the model's complexity?\n",
    "- Is the model interpretable?\n",
    "- Is the model capable of handling different data-types?\n",
    "- Does the model return uncertainty estimates along with predictions?"
   ]
  },
  {
   "cell_type": "markdown",
   "metadata": {},
   "source": [
    "<div class=\"\">\n",
    "    <h3>4. Parameter Optimisation</h3>\n",
    "</div>"
   ]
  },
  {
   "cell_type": "markdown",
   "metadata": {},
   "source": [
    "Irrespective of your choice, it is highly likely that your model will have one or more (hyper-)parameters that require tuning.\n",
    "There are several techniques for carrying out such a procedure, including cross-validation, Bayesian optimisation, and several others.\n",
    "As before, an analysis into which parameter tuning technique best suits your model is expected before proceeding with the optimisation of your model.\n",
    "\n",
    "If you use a neural network, the optimization of hyperparameters (learning rate, weight decay, etc.) can be a very time-consuming process. In this case, your may decide to carry out smaller experiments and to justify your choice on these preliminary tests."
   ]
  },
  {
   "cell_type": "markdown",
   "metadata": {},
   "source": [
    "<div class=\"\">\n",
    "    <h3>5. Model Evaluation</h3>\n",
    "</div>"
   ]
  },
  {
   "cell_type": "markdown",
   "metadata": {},
   "source": [
    "Some form of pre-evaluation will inevitably be required in the preceding sections in order to both select an appropriate model and configure its parameters appropriately.\n",
    "In this final section, you may evaluate other aspects of the model such as:\n",
    "\n",
    "- Assessing the running time of your model;\n",
    "- Determining whether some aspects can be parallelised;\n",
    "- Training the model with smaller subsets of the data.\n",
    "- etc.\n",
    "\n",
    "For the evaluation of the classification results, you should use the F1 measure (see Submission Instructions). Here the focus should be on level2 classification. A classification evaluation for other labels is optional.\n",
    "\n",
    "Please note that you are responsible for creating a sensible train/validation/test split. There is no predefined held-out test data."
   ]
  },
  {
   "cell_type": "markdown",
   "metadata": {},
   "source": [
    "<div class=\"alert alert-danger\">\n",
    "    <b>N.B.</b> Please note that the items listed under each heading are neither exhaustive, nor are you expected to explore every given suggestion.\n",
    "    Nonetheless, these should serve as a guideline for your work in both this and upcoming challenges.\n",
    "    As always, you should use your intuition and understanding in order to decide which analysis best suits the assigned task.\n",
    "</div>"
   ]
  },
  {
   "cell_type": "markdown",
   "metadata": {},
   "source": [
    "<div class=\"\">\n",
    "    <h2>Submission Instructions</h2>\n",
    "    <hr style=\"height:1px;border:none;color:#333;background-color:#333;\" />    \n",
    "</div>"
   ]
  },
  {
   "cell_type": "markdown",
   "metadata": {},
   "source": [
    "- The goal of this challenge is to construct a model for predicting Plankton (taxonomy level 2) classes.\n",
    "\n",
    "- Your submission will be the <b>HTML version of your notebook</b> exploring the various modelling aspects described above.\n",
    "\n",
    "- At the end of the notebook you should indicate your final evaluation score on a held-out test set. As an evaluation metric you should use the F1 score with the *average=macro* option as it is provided by the scikit-learn library. See the following link for more information:\n",
    "        \n",
    "https://scikit-learn.org/stable/modules/generated/sklearn.metrics.f1_score.html"
   ]
  },
  {
   "cell_type": "markdown",
   "metadata": {},
   "source": [
    "<div class=\"\">\n",
    "    <h2>Dataset Description</h2>\n",
    "    <hr style=\"height:1px;border:none;color:#333;background-color:#333;\"/>    \n",
    "</div>"
   ]
  },
  {
   "cell_type": "markdown",
   "metadata": {},
   "source": [
    "#### * Location of the Dataset on zoe\n",
    "The data for this challenge is located at: `/mnt/datasets/plankton/flowcam`\n",
    "\n",
    "#### * Hierachical Taxonomy Tree for Labels \n",
    "\n",
    "Each object is represented by a single image and is identified by a unique integer number. It has a name associated to it which is integrated in a hierarchical taxonomic tree. The identifications are gathered from different projects, classified by different people in different contexts, so they often target different taxonomic levels. For example, let us say we classify items of clothing along the following tree\n",
    "\n",
    "    top\n",
    "        shirt\n",
    "            long sleeves\n",
    "            short sleeves\n",
    "        sweater\n",
    "            hooded\n",
    "            no hood\n",
    "    bottom\n",
    "        pants\n",
    "            jeans\n",
    "            other\n",
    "        shorts\n",
    "        \n",
    "In a first project, images are classified to the finest level possible, but it may be the case that, on some pictures, it is impossible to determine whether a sweater has a hood or not, in which case it is simply classified as `sweater`. In the second project, the operator classified tops as `shirt` or `sweater` only, and bottoms to the finest level. In a third project, the operator only separated tops from bottoms. In such a context, the original names in the database cannot be used directly because, for example `sweater` will contain images that are impossible to determine as `hooded` or `no hood` *as well as* `hooded` and `no hood` images that were simply not classified further. If all three classes (`sweater`, `hooded`, and `no hood`) are included in the training set, it will likely confuse the classifier. For this reason, we define different target taxonomic levels:\n",
    "\n",
    "-   `level1` is the finest taxonomic level possible. In the example above, we would include `hooded` and `no hood` but discard all images in `sweater` to avoid confusion; and proceed in the same manner for other classes.\n",
    "\n",
    "-   `level2` is a grouping of underlying levels. In the example above, it would include `shirt` (which contains all images in `shirt`, `long sleeves`, and `short sleeves`), `sweater` (which, similarly would include this class and all its children), `pants` (including children), and `shorts`. So typically, `level2` contains more images (less discarding), sorted within fewer classes than `level1`, and may therefore be an easier classification problem.\n",
    "\n",
    "-   `level3` is an even broader grouping. Here it would be `top` vs `bottom`\n",
    "\n",
    "-   etc.\n",
    "\n",
    "In the Plankton Image dataset, the objects will be categorised based on a pre-defined 'level1' and 'level2'. You can opt to work on one of them, but we recommend you to work on `level2` because it is an easier classification problem.  \n",
    "\n",
    "#### * Data Structure\n",
    "\n",
    "    /mnt/datasets/plankton/flowcam/\n",
    "        meta.csv\n",
    "        taxo.csv\n",
    "        features_native.csv.gz\n",
    "        features_skimage.csv.gz\n",
    "        imgs.zip\n",
    "\n",
    "* `meta.csv` contains the index of images and their corresponding labels\n",
    "* `taxo.csv` defines the taxonomic tree and its potential groupings at various level. Note that, the information is also available in `meta.csv`. Therefore, the information in `taxo.csv` is probably useless, but at least it gives you a global view about taxonomy tree\n",
    "* `features_native.csv.gz` contain the morphological handcrafted features computed by ZooProcess. In fact, ZooProcess generates the region of interests (ROI) around each individual object from a original image of Plankton. In addition, it also computes a set of associated features measured on the object. These features are the ones contained in `features_native.csv.gz`\n",
    "* `features_skimage.csv.gz` contains the morphological features recomputed with skimage.measure.regionprops on the ROIs produced by ZooProcess.\n",
    "* `imgs.zip` contains a post-processed version of the original images. Images are named by `objid`.jpg\n",
    "\n",
    "#### * Attributes in meta.csv\n",
    "\n",
    "The file contains the image identifiers (objid) as well as the labels assigned to the images by human operators. Those are defined with various levels of precision:\n",
    "\n",
    "* <i>unique_name</i>: raw labels from operators\n",
    "* <i>level1</i>: cleaned, most detailed labels\n",
    "* <i>level2</i>: regrouped (coarser) labels\n",
    "* <i>lineage</i>: full taxonomic lineage of the class\n",
    "\n",
    "Some labels may be missing (coded ‘NA’) at a given level, meaning that the corresponding objects should be discarded for the classification at this level.\n",
    "\n",
    "#### * imgs.zip\n",
    "\n",
    "This zip archive contains an *imgs* folder that contains all the images in .jpg format. Do not extract this folder to disk! Instead you will be loading the images to memory. See the code below for a quick how-to:"
   ]
  },
  {
   "cell_type": "code",
   "execution_count": 1,
   "metadata": {},
   "outputs": [],
   "source": [
    "import zipfile\n",
    "from io import BytesIO\n",
    "from PIL import Image, ImageFilter\n",
    "\n",
    "def extract_zip_to_memory(input_zip):\n",
    "    '''\n",
    "    This function extracts the images stored inside the given zip file.\n",
    "    It stores the result in a python dictionary.\n",
    "    \n",
    "    input_zip (string): path to the zip file\n",
    "    \n",
    "    returns (dict): {filename (string): image_file (bytes)}\n",
    "    '''\n",
    "    input_zip=zipfile.ZipFile(input_zip)\n",
    "    return {name: BytesIO(input_zip.read(name)) for name in input_zip.namelist() if name.endswith('.jpg')}\n",
    "\n",
    "\n",
    "# img_files = extract_zip_to_memory(\"imgs.zip\")\n",
    "\n",
    "# Display an example image \n",
    "# Image.open(img_files['imgs/32738710.jpg'])\n",
    "\n",
    "# Load the image as a numpy array:\n",
    "# np_arr = np.array(Image.open(img_files['imgs/32738710.jpg']))\n",
    "\n",
    "# Be aware that the dictionary will occupy roughly 2GB of computer memory!\n",
    "# To free this memory again, run:\n",
    "# del img_files"
   ]
  },
  {
   "cell_type": "markdown",
   "metadata": {},
   "source": [
    "#### * Attributes in features_native.csv.gz\n",
    "A brief outline of the availabel attributes in `features_native.csv.gz` which you can use is given below:\n",
    "\n",
    "* <i>objid</i>: same as in `meta.csv`\n",
    "* <i>area</i>: area of ROI\n",
    "* <i>meanimagegrey</i>:\n",
    "* <i>mean</i>: mean grey\n",
    "* <i>stddev</i>: standard deviation of greys\n",
    "* <i>min</i>: minimum grey\n",
    "* <i>perim.</i>: perimeter of ROI\n",
    "* <i>width, height</i>: dimensions of ROI\n",
    "* <i>major, minor</i>: length of major,minor axis of the best fitting ellipse\n",
    "* <i>angle</i>: \n",
    "* <i>circ.</i>: circularity or shape factor which can be computed by 4pi(area/perim.^2)\n",
    "* <i>feret</i>:  maximal feret diameter\n",
    "* <i>intden</i>: integrated density: mean*area\n",
    "* <i>median</i>: median grey\n",
    "* <i>skew, kurt</i>: skewness,kurtosis of the histogram of greys\n",
    "* <i>%area</i>: proportion of the image corresponding to the object\n",
    "* <i>area_exc</i>: area excluding holes\n",
    "* <i>fractal</i>: fractal dimension of the perimeter\n",
    "* <i>skelarea</i>: area of the one-pixel wide skeleton of the image ???\n",
    "* <i>slope</i>: slope of the cumulated histogram of greys\n",
    "* <i>histcum1, 2, 3</i>:  grey level at quantiles 0.25, 0.5, 0.75 of the histogram of greys\n",
    "* <i>nb1, 2, 3</i>: number of objects after thresholding at the grey levels above\n",
    "* <i>symetrieh, symetriev</i>: index of horizontal,vertical symmetry\n",
    "* <i>symetriehc, symetrievc</i>: same but after thresholding at level histcum1\n",
    "* <i>convperim, convarea</i>: perimeter,area of the convex hull of the object\n",
    "* <i>fcons</i>: contrast\n",
    "* <i>thickr</i>: thickness ratio: maximum thickness/mean thickness\n",
    "* <i>esd</i>:\n",
    "* <i>elongation</i>: elongation index: major/minor\n",
    "* <i>range</i>: range of greys: max-min\n",
    "* <i>meanpos</i>:  relative position of the mean grey: (max-mean)/range\n",
    "* <i>centroids</i>:\n",
    "* <i>cv</i>: coefficient of variation of greys: 100*(stddev/mean)\n",
    "* <i>sr</i>: index of variation of greys: 100*(stddev/range)\n",
    "* <i>perimareaexc</i>:\n",
    "* <i>feretareaexc</i>:\n",
    "* <i>perimferet</i>: index of the relative complexity of the perimeter: perim/feret\n",
    "* <i>perimmajor</i>: index of the relative complexity of the perimeter: perim/major\n",
    "* <i>circex</i>:\n",
    "* <i>cdexc</i>:\n",
    "* <i>kurt_mean</i>:\n",
    "* <i>skew_mean</i>:\n",
    "* <i>convperim_perim</i>:\n",
    "* <i>convarea_area</i>:\n",
    "* <i>symetrieh_area</i>:\n",
    "* <i>symetriev_area</i>:\n",
    "* <i>nb1_area</i>:\n",
    "* <i>nb2_area</i>:\n",
    "* <i>nb3_area</i>:\n",
    "* <i>nb1_range</i>:\n",
    "* <i>nb2_range</i>:\n",
    "* <i>nb3_range</i>:\n",
    "* <i>median_mean</i>:\n",
    "* <i>median_mean_range</i>:\n",
    "* <i>skeleton_area</i>:\n",
    "\n",
    "#### * Attributes in features_skimage.csv.gz\n",
    "Table of morphological features recomputed with skimage.measure.regionprops on the ROIs produced by ZooProcess. See http://scikit-image.org/docs/dev/api/skimage.measure.html#skimage.measure.regionprops for documentation."
   ]
  },
  {
   "cell_type": "markdown",
   "metadata": {},
   "source": [
    "## Import the needed tools"
   ]
  },
  {
   "cell_type": "code",
   "execution_count": 2,
   "metadata": {},
   "outputs": [
    {
     "name": "stdout",
     "output_type": "stream",
     "text": [
      "Requirement already satisfied: keras in /mnt/workspace/.local/lib/python3.5/site-packages (2.2.4)\n",
      "Requirement already satisfied: pyyaml in /usr/local/lib/python3.5/dist-packages (from keras) (3.13)\n",
      "Requirement already satisfied: h5py in /mnt/workspace/.local/lib/python3.5/site-packages (from keras) (2.9.0)\n",
      "Requirement already satisfied: numpy>=1.9.1 in /usr/local/lib/python3.5/dist-packages (from keras) (1.14.5)\n",
      "Requirement already satisfied: keras-applications>=1.0.6 in /mnt/workspace/.local/lib/python3.5/site-packages (from keras) (1.0.7)\n",
      "Requirement already satisfied: scipy>=0.14 in /usr/local/lib/python3.5/dist-packages (from keras) (1.1.0)\n",
      "Requirement already satisfied: keras-preprocessing>=1.0.5 in /mnt/workspace/.local/lib/python3.5/site-packages (from keras) (1.0.9)\n",
      "Requirement already satisfied: six>=1.9.0 in /usr/local/lib/python3.5/dist-packages (from keras) (1.11.0)\n",
      "\u001b[33mYou are using pip version 18.0, however version 19.0.3 is available.\n",
      "You should consider upgrading via the 'pip install --upgrade pip' command.\u001b[0m\n"
     ]
    }
   ],
   "source": [
    "!pip3 install --user 'keras'"
   ]
  },
  {
   "cell_type": "code",
   "execution_count": 3,
   "metadata": {},
   "outputs": [
    {
     "name": "stderr",
     "output_type": "stream",
     "text": [
      "Using TensorFlow backend.\n"
     ]
    }
   ],
   "source": [
    "import numpy as np\n",
    "import pandas as pd\n",
    "import scipy as sc\n",
    "import random\n",
    "import matplotlib.pyplot as plt\n",
    "import seaborn as sns\n",
    "from matplotlib.pyplot import imshow\n",
    "from IPython.display import display\n",
    "from sklearn.model_selection import train_test_split, KFold\n",
    "from sklearn.metrics import f1_score\n",
    "import io\n",
    "import re\n",
    "import keras as krs"
   ]
  },
  {
   "cell_type": "markdown",
   "metadata": {},
   "source": [
    "## Task 1 - Data Exploration"
   ]
  },
  {
   "cell_type": "markdown",
   "metadata": {},
   "source": [
    "Import the images into an in-memory dictionary"
   ]
  },
  {
   "cell_type": "code",
   "execution_count": 4,
   "metadata": {},
   "outputs": [],
   "source": [
    "image_dict = extract_zip_to_memory('/mnt/datasets/plankton/flowcam/imgs.zip')"
   ]
  },
  {
   "cell_type": "markdown",
   "metadata": {},
   "source": [
    "What is the size of our data?"
   ]
  },
  {
   "cell_type": "markdown",
   "metadata": {},
   "source": [
    "Let's now take a look at the multi-level labels of the images"
   ]
  },
  {
   "cell_type": "code",
   "execution_count": 5,
   "metadata": {},
   "outputs": [
    {
     "data": {
      "text/html": [
       "<div>\n",
       "<style scoped>\n",
       "    .dataframe tbody tr th:only-of-type {\n",
       "        vertical-align: middle;\n",
       "    }\n",
       "\n",
       "    .dataframe tbody tr th {\n",
       "        vertical-align: top;\n",
       "    }\n",
       "\n",
       "    .dataframe thead th {\n",
       "        text-align: right;\n",
       "    }\n",
       "</style>\n",
       "<table border=\"1\" class=\"dataframe\">\n",
       "  <thead>\n",
       "    <tr style=\"text-align: right;\">\n",
       "      <th></th>\n",
       "      <th>objid</th>\n",
       "      <th>lineage</th>\n",
       "      <th>level1</th>\n",
       "      <th>level2</th>\n",
       "    </tr>\n",
       "  </thead>\n",
       "  <tbody>\n",
       "    <tr>\n",
       "      <th>0</th>\n",
       "      <td>32756761</td>\n",
       "      <td>/#/not-living/detritus</td>\n",
       "      <td>detritus</td>\n",
       "      <td>detritus</td>\n",
       "    </tr>\n",
       "    <tr>\n",
       "      <th>1</th>\n",
       "      <td>32759364</td>\n",
       "      <td>/#/not-living/detritus</td>\n",
       "      <td>detritus</td>\n",
       "      <td>detritus</td>\n",
       "    </tr>\n",
       "    <tr>\n",
       "      <th>2</th>\n",
       "      <td>32758055</td>\n",
       "      <td>/#/living/Eukaryota/Harosa/Stramenopiles/Ochro...</td>\n",
       "      <td>Guinardia</td>\n",
       "      <td>Rhizosolenids</td>\n",
       "    </tr>\n",
       "    <tr>\n",
       "      <th>3</th>\n",
       "      <td>32758988</td>\n",
       "      <td>/#/not-living/plastic/other/silks</td>\n",
       "      <td>silks</td>\n",
       "      <td>silks</td>\n",
       "    </tr>\n",
       "    <tr>\n",
       "      <th>4</th>\n",
       "      <td>32760598</td>\n",
       "      <td>/#/not-living/plastic/other/silks</td>\n",
       "      <td>silks</td>\n",
       "      <td>silks</td>\n",
       "    </tr>\n",
       "    <tr>\n",
       "      <th>5</th>\n",
       "      <td>32760828</td>\n",
       "      <td>/#/not-living/detritus</td>\n",
       "      <td>detritus</td>\n",
       "      <td>detritus</td>\n",
       "    </tr>\n",
       "    <tr>\n",
       "      <th>6</th>\n",
       "      <td>32760820</td>\n",
       "      <td>/#/not-living/detritus</td>\n",
       "      <td>detritus</td>\n",
       "      <td>detritus</td>\n",
       "    </tr>\n",
       "    <tr>\n",
       "      <th>7</th>\n",
       "      <td>32758467</td>\n",
       "      <td>/#/not-living/plastic/other/silks</td>\n",
       "      <td>silks</td>\n",
       "      <td>silks</td>\n",
       "    </tr>\n",
       "    <tr>\n",
       "      <th>8</th>\n",
       "      <td>32760505</td>\n",
       "      <td>/#/not-living/plastic/other/silks</td>\n",
       "      <td>silks</td>\n",
       "      <td>silks</td>\n",
       "    </tr>\n",
       "    <tr>\n",
       "      <th>9</th>\n",
       "      <td>32760693</td>\n",
       "      <td>/#/not-living/plastic/other/silks</td>\n",
       "      <td>silks</td>\n",
       "      <td>silks</td>\n",
       "    </tr>\n",
       "  </tbody>\n",
       "</table>\n",
       "</div>"
      ],
      "text/plain": [
       "      objid                                            lineage     level1  \\\n",
       "0  32756761                             /#/not-living/detritus   detritus   \n",
       "1  32759364                             /#/not-living/detritus   detritus   \n",
       "2  32758055  /#/living/Eukaryota/Harosa/Stramenopiles/Ochro...  Guinardia   \n",
       "3  32758988                  /#/not-living/plastic/other/silks      silks   \n",
       "4  32760598                  /#/not-living/plastic/other/silks      silks   \n",
       "5  32760828                             /#/not-living/detritus   detritus   \n",
       "6  32760820                             /#/not-living/detritus   detritus   \n",
       "7  32758467                  /#/not-living/plastic/other/silks      silks   \n",
       "8  32760505                  /#/not-living/plastic/other/silks      silks   \n",
       "9  32760693                  /#/not-living/plastic/other/silks      silks   \n",
       "\n",
       "          level2  \n",
       "0       detritus  \n",
       "1       detritus  \n",
       "2  Rhizosolenids  \n",
       "3          silks  \n",
       "4          silks  \n",
       "5       detritus  \n",
       "6       detritus  \n",
       "7          silks  \n",
       "8          silks  \n",
       "9          silks  "
      ]
     },
     "execution_count": 5,
     "metadata": {},
     "output_type": "execute_result"
    }
   ],
   "source": [
    "metaDF = pd.read_csv('/mnt/datasets/plankton/flowcam/meta.csv', dtype = {'objid':np.int32})\n",
    "metaDF_NA = metaDF[metaDF.level2.isna()]\n",
    "metaDF = metaDF[metaDF.level2.notna()]\n",
    "metaDF[['objid', 'lineage', 'level1', 'level2']][:10]"
   ]
  },
  {
   "cell_type": "markdown",
   "metadata": {},
   "source": [
    "What is the number of labeled images?"
   ]
  },
  {
   "cell_type": "code",
   "execution_count": 6,
   "metadata": {},
   "outputs": [
    {
     "name": "stdout",
     "output_type": "stream",
     "text": [
      "The number of labeled images in the dataset is 242607\n"
     ]
    }
   ],
   "source": [
    "print(\"The number of labeled images in the dataset is\", metaDF.objid.count())"
   ]
  },
  {
   "cell_type": "markdown",
   "metadata": {},
   "source": [
    "After importing the images into memory, let's have a look at some of them to decide what to do with them before moving to the training part. We will delete unlabeled images, build an id to index dictionary, and store the sizes of the images for later use."
   ]
  },
  {
   "cell_type": "code",
   "execution_count": 7,
   "metadata": {
    "scrolled": true
   },
   "outputs": [
    {
     "data": {
      "image/png": "[encoded data removed]",
      "text/plain": [
       "<PIL.JpegImagePlugin.JpegImageFile image mode=L size=109x123 at 0x7F5288F8ECF8>"
      ]
     },
     "metadata": {},
     "output_type": "display_data"
    },
    {
     "name": "stdout",
     "output_type": "stream",
     "text": [
      "The channels of this image are ('L',)\n"
     ]
    },
    {
     "data": {
      "image/png": "[encoded data removed]",
      "text/plain": [
       "<PIL.JpegImagePlugin.JpegImageFile image mode=L size=144x125 at 0x7F52878915C0>"
      ]
     },
     "metadata": {},
     "output_type": "display_data"
    },
    {
     "name": "stdout",
     "output_type": "stream",
     "text": [
      "The channels of this image are ('L',)\n"
     ]
    },
    {
     "data": {
      "image/png": "[encoded data removed]",
      "text/plain": [
       "<PIL.JpegImagePlugin.JpegImageFile image mode=L size=173x344 at 0x7F5287891550>"
      ]
     },
     "metadata": {},
     "output_type": "display_data"
    },
    {
     "name": "stdout",
     "output_type": "stream",
     "text": [
      "The channels of this image are ('L',)\n"
     ]
    },
    {
     "data": {
      "image/png": "[encoded data removed]",
      "text/plain": [
       "<PIL.JpegImagePlugin.JpegImageFile image mode=L size=215x384 at 0x7F5287891550>"
      ]
     },
     "metadata": {},
     "output_type": "display_data"
    },
    {
     "name": "stdout",
     "output_type": "stream",
     "text": [
      "The channels of this image are ('L',)\n"
     ]
    },
    {
     "data": {
      "image/png": "[encoded data removed]",
      "text/plain": [
       "<PIL.JpegImagePlugin.JpegImageFile image mode=L size=72x49 at 0x7F528DA97828>"
      ]
     },
     "metadata": {},
     "output_type": "display_data"
    },
    {
     "name": "stdout",
     "output_type": "stream",
     "text": [
      "The channels of this image are ('L',)\n"
     ]
    },
    {
     "data": {
      "image/png": "[encoded data removed]",
      "text/plain": [
       "<PIL.JpegImagePlugin.JpegImageFile image mode=L size=77x156 at 0x7F5287891588>"
      ]
     },
     "metadata": {},
     "output_type": "display_data"
    },
    {
     "name": "stdout",
     "output_type": "stream",
     "text": [
      "The channels of this image are ('L',)\n"
     ]
    },
    {
     "data": {
      "image/png": "[encoded data removed]",
      "text/plain": [
       "<PIL.JpegImagePlugin.JpegImageFile image mode=L size=65x52 at 0x7F52878915C0>"
      ]
     },
     "metadata": {},
     "output_type": "display_data"
    },
    {
     "name": "stdout",
     "output_type": "stream",
     "text": [
      "The channels of this image are ('L',)\n"
     ]
    },
    {
     "data": {
      "image/png": "[encoded data removed]",
      "text/plain": [
       "<PIL.JpegImagePlugin.JpegImageFile image mode=L size=53x286 at 0x7F52878916D8>"
      ]
     },
     "metadata": {},
     "output_type": "display_data"
    },
    {
     "name": "stdout",
     "output_type": "stream",
     "text": [
      "The channels of this image are ('L',)\n"
     ]
    },
    {
     "data": {
      "image/png": "[encoded data removed]",
      "text/plain": [
       "<PIL.JpegImagePlugin.JpegImageFile image mode=L size=49x75 at 0x7F52878916D8>"
      ]
     },
     "metadata": {},
     "output_type": "display_data"
    },
    {
     "name": "stdout",
     "output_type": "stream",
     "text": [
      "The channels of this image are ('L',)\n"
     ]
    },
    {
     "data": {
      "image/png": "[encoded data removed]",
      "text/plain": [
       "<PIL.JpegImagePlugin.JpegImageFile image mode=L size=99x132 at 0x7F52878915C0>"
      ]
     },
     "metadata": {},
     "output_type": "display_data"
    },
    {
     "name": "stdout",
     "output_type": "stream",
     "text": [
      "The channels of this image are ('L',)\n"
     ]
    },
    {
     "data": {
      "image/png": "[encoded data removed]",
      "text/plain": [
       "<PIL.JpegImagePlugin.JpegImageFile image mode=L size=55x149 at 0x7F5287891550>"
      ]
     },
     "metadata": {},
     "output_type": "display_data"
    },
    {
     "name": "stdout",
     "output_type": "stream",
     "text": [
      "The channels of this image are ('L',)\n"
     ]
    },
    {
     "data": {
      "image/png": "[encoded data removed]",
      "text/plain": [
       "<PIL.JpegImagePlugin.JpegImageFile image mode=L size=131x143 at 0x7F52878916D8>"
      ]
     },
     "metadata": {},
     "output_type": "display_data"
    },
    {
     "name": "stdout",
     "output_type": "stream",
     "text": [
      "The channels of this image are ('L',)\n"
     ]
    },
    {
     "data": {
      "image/png": "[encoded data removed]",
      "text/plain": [
       "<PIL.JpegImagePlugin.JpegImageFile image mode=L size=12x12 at 0x7F5287891518>"
      ]
     },
     "metadata": {},
     "output_type": "display_data"
    },
    {
     "name": "stdout",
     "output_type": "stream",
     "text": [
      "The channels of this image are ('L',)\n"
     ]
    }
   ],
   "source": [
    "# Define a 2D array to store lengths and widths\n",
    "image_sizes = np.zeros((2,metaDF.objid.count()))\n",
    "\n",
    "# Define a dictionary from object ID's to index\n",
    "objid2idx = {}\n",
    "\n",
    "# Delete unlabeled images\n",
    "for i, objid in enumerate(metaDF_NA.objid):\n",
    "        del image_dict['imgs/'+str(objid)+'.jpg']\n",
    "\n",
    "# Store sizes and display sample images\n",
    "for i, objid in enumerate(metaDF.objid):\n",
    "    img = Image.open(image_dict['imgs/'+str(objid)+'.jpg'])\n",
    "    # Display a selection of images from the data\n",
    "    if(i%20000 == 0):\n",
    "        display(img)\n",
    "        print('The channels of this image are',img.getbands())\n",
    "    # Store the size of the images for further investigation\n",
    "    image_sizes[0,i], image_sizes[1,i] = img.size\n",
    "    # Assign an index to an object ID\n",
    "    objid2idx[objid] = i"
   ]
  },
  {
   "cell_type": "markdown",
   "metadata": {},
   "source": [
    "As we can see, the images have a single gray-scale channel. This allows us to represent images as a 2D-Array in preprocessing."
   ]
  },
  {
   "cell_type": "code",
   "execution_count": 8,
   "metadata": {},
   "outputs": [
    {
     "name": "stdout",
     "output_type": "stream",
     "text": [
      "[[255 255 255 ... 255 255 255]\n",
      " [255 255 255 ... 255 255 255]\n",
      " [255 255 255 ... 255 255 255]\n",
      " ...\n",
      " [254 255 255 ... 255 255 255]\n",
      " [255 255 255 ... 255 255 255]\n",
      " [255 255 255 ... 255 255 255]]\n"
     ]
    },
    {
     "data": {
      "image/png": "[encoded data removed]",
      "text/plain": [
       "<Figure size 432x288 with 1 Axes>"
      ]
     },
     "metadata": {},
     "output_type": "display_data"
    }
   ],
   "source": [
    "img = np.asarray(Image.open(image_dict['imgs/32760598.jpg']))\n",
    "print(img)\n",
    "plt.imshow(img, cmap='gray', vmin=0, vmax=255)\n",
    "plt.axis('off')\n",
    "plt.show()"
   ]
  },
  {
   "cell_type": "markdown",
   "metadata": {},
   "source": [
    "Let's take a look at the size distribution of the images. This will help us decide the final resized shape of the images."
   ]
  },
  {
   "cell_type": "code",
   "execution_count": 9,
   "metadata": {},
   "outputs": [
    {
     "data": {
      "image/png": "[encoded data removed]",
      "text/plain": [
       "<Figure size 1800x1800 with 2 Axes>"
      ]
     },
     "metadata": {},
     "output_type": "display_data"
    }
   ],
   "source": [
    "fig = plt.figure(1)\n",
    "\n",
    "\n",
    "ax1 = plt.subplot(2, 1, 1)\n",
    "\n",
    "colors = {0:\"red\", 1: \"orange\", 2:\"yellow\", 3:\"darkgreen\", 4:\"cyan\"}\n",
    "\n",
    "# Calculate and plot the 5 important percentiles\n",
    "for i, quantile in enumerate([10, 25, 50, 75, 90]):\n",
    "    ax1.axvline(np.percentile(image_sizes[0], quantile), label='%.0fth perc.' % (quantile), color = colors[i])\n",
    "    ax1.axhline(quantile, linestyle='-')\n",
    "    \n",
    "    \n",
    "# for i, quantile in enumerate([10, 25, 50, 75, 90]):\n",
    "#     ax1.set_xticks([np.percentile(image_sizes[0], quantile)])\n",
    "\n",
    "    \n",
    "plt.hist(image_sizes[0], cumulative=False, bins='auto')\n",
    "\n",
    "\n",
    "ax1.set_title('Distribution of Image Sizes')\n",
    "ax1.set_xlabel('Width')\n",
    "ax1.legend()\n",
    "ax1.grid(False)\n",
    "\n",
    "ax2 = plt.subplot(2, 1, 2)\n",
    "\n",
    "# Calculate and plot the 5 important percentiles\n",
    "for i, quantile in enumerate([10, 25, 50, 75, 90]):\n",
    "    ax2.axvline(np.percentile(image_sizes[1], quantile), label='%.0fth perc.' % (quantile), color = colors[i])\n",
    "    ax2.axhline(quantile, linestyle='-')\n",
    "    \n",
    "# for i, quantile in enumerate([10, 25, 50, 75, 90]):\n",
    "#     ax2.set_xticks([np.percentile(image_sizes[1], quantile)])\n",
    "\n",
    "plt.hist(image_sizes[1], cumulative=False, bins='auto')\n",
    "\n",
    "\n",
    "ax2.set_title('Distribution of Image Sizes')\n",
    "ax2.set_xlabel('Height')\n",
    "ax2.legend()\n",
    "ax2.grid(False)\n",
    "\n",
    "fig.set_size_inches(w=25,h=25)\n",
    "\n",
    "\n",
    "plt.show()"
   ]
  },
  {
   "cell_type": "markdown",
   "metadata": {},
   "source": [
    "Let's check the multiple taxonomy levels in the taxonomy csv file"
   ]
  },
  {
   "cell_type": "code",
   "execution_count": 10,
   "metadata": {
    "scrolled": false
   },
   "outputs": [
    {
     "name": "stdout",
     "output_type": "stream",
     "text": [
      "levelName\n",
      "#\n",
      "��--living\n",
      "��   ��--Bacteria\n",
      "��   ��   ��--Cyanobacteria\n",
      "��   ��       ��--Cyanophyceae\n",
      "��   ��           ��--Trichodesmium\n",
      "��   ��--Eukaryota\n",
      "��   ��   ��--Harosa\n",
      "��   ��   ��   ��--Alveolata\n",
      "��   ��   ��   ��   ��--Ciliophora\n",
      "��   ��   ��   ��   ��   ��--Intramacronucleata\n",
      "��   ��   ��   ��   ��       ��--Oligohymenophorea\n",
      "��   ��   ��   ��   ��       ��   ��--Peritrichia\n",
      "��   ��   ��   ��   ��       ��       ��--Zoothamniidae\n",
      "��   ��   ��   ��   ��       ��--Prostomatea\n",
      "��   ��   ��   ��   ��       ��   ��--Prostomatea X\n",
      "��   ��   ��   ��   ��       ��       ��--Colepidae\n",
      "��   ��   ��   ��   ��       ��           ��--Tiarina\n",
      "��   ��   ��   ��   ��       ��               ��--Tiarina fusus\n"
     ]
    }
   ],
   "source": [
    "!head -n 20 /mnt/datasets/plankton/flowcam/taxo.csv | cut -d ',' -f1"
   ]
  },
  {
   "cell_type": "code",
   "execution_count": 11,
   "metadata": {},
   "outputs": [
    {
     "data": {
      "image/png": "[encoded data removed]",
      "text/plain": [
       "<Figure size 864x432 with 1 Axes>"
      ]
     },
     "metadata": {},
     "output_type": "display_data"
    }
   ],
   "source": [
    "fig, ax = plt.subplots()\n",
    "fig.set_size_inches(12, 6)\n",
    "\n",
    "# Plot the cumulative distribution\n",
    "metaDF[\"level2\"].value_counts().plot(kind=\"bar\")\n",
    "\n",
    "    \n",
    "ax.set_title('Distribution of Level-2 Labels')\n",
    "ax.set_xlabel('Label')\n",
    "ax.set_ylabel('Frequency')\n",
    "ax.grid(False)\n",
    "ax.annotate(str(metaDF.level2.nunique())+' Labels', (15,75000), size = 20)\n",
    "plt.show()"
   ]
  },
  {
   "cell_type": "markdown",
   "metadata": {},
   "source": [
    "## Task 2 - Data Pre-processing"
   ]
  },
  {
   "cell_type": "markdown",
   "metadata": {},
   "source": [
    "Now, we will resize the images."
   ]
  },
  {
   "cell_type": "code",
   "execution_count": null,
   "metadata": {},
   "outputs": [],
   "source": []
  },
  {
   "cell_type": "code",
   "execution_count": 12,
   "metadata": {},
   "outputs": [],
   "source": [
    "# Define index to image dictionary\n",
    "image_dict_resized = {}\n",
    "width = 32\n",
    "height = 32\n",
    "\n",
    "for i, objid in enumerate(metaDF.objid):\n",
    "    # Open original image\n",
    "    img = Image.open(image_dict['imgs/'+str(objid)+'.jpg'])\n",
    "    \n",
    "    # Apply a median filter to the image to reduce noise without affecting the edges\n",
    "    img_filtered = img.filter(ImageFilter.MedianFilter(size=3))\n",
    "    \n",
    "    # Resize using Anti-aliasing technique\n",
    "    img_resized = img.resize((width,height), Image.ANTIALIAS)\n",
    "    \n",
    "    # Save the image in a byte string\n",
    "#     file = BytesIO()\n",
    "#     img.save(file, format='JPEG')\n",
    "#     file.name = i\n",
    "#     file.seek(0)\n",
    "    \n",
    "    # Store in the dictionary of resized images as 2D-arrays\n",
    "    image_dict_resized[i] = np.asarray(img_resized,)"
   ]
  },
  {
   "cell_type": "markdown",
   "metadata": {},
   "source": [
    "Let's now map the objid's to the new indices."
   ]
  },
  {
   "cell_type": "code",
   "execution_count": 13,
   "metadata": {},
   "outputs": [],
   "source": [
    "# Map the object ID's to indices in the metadata datafram\n",
    "metaDF['objid'] = metaDF['objid'].map(objid2idx)"
   ]
  },
  {
   "cell_type": "markdown",
   "metadata": {},
   "source": [
    "After we removed ublabeled images, resized the labeled ones, and stored them, let's free the memory occupied by the original images."
   ]
  },
  {
   "cell_type": "code",
   "execution_count": 17,
   "metadata": {},
   "outputs": [],
   "source": [
    "# Free the memory occupied by the original images\n",
    "del image_dict\n",
    "del image_sizes\n",
    "del objid2idx"
   ]
  },
  {
   "cell_type": "markdown",
   "metadata": {},
   "source": [
    "Let's now display some samples of the resized images to see how they look."
   ]
  },
  {
   "cell_type": "code",
   "execution_count": 15,
   "metadata": {
    "scrolled": false
   },
   "outputs": [
    {
     "name": "stdout",
     "output_type": "stream",
     "text": [
      "\n"
     ]
    },
    {
     "data": {
      "image/png": "[encoded data removed]",
      "text/plain": [
       "<Figure size 720x720 with 13 Axes>"
      ]
     },
     "metadata": {},
     "output_type": "display_data"
    }
   ],
   "source": [
    "# Plot some images after resizing\n",
    "fig, axs = plt.subplots(4,4, figsize=(10, 10))\n",
    "fig.subplots_adjust(hspace = .5, wspace=.001)\n",
    "axs = axs.ravel()\n",
    "print()\n",
    "j = 0\n",
    "for i, img in image_dict_resized.items():\n",
    "    if i%20000 == 0:\n",
    "        ax = axs[j]\n",
    "        ax.imshow(img, cmap='gray', vmin=0, vmax=255)\n",
    "        j += 1\n",
    "        ax.axis('off')\n",
    "\n",
    "# Remove the axes\n",
    "fig.delaxes(axs[13])\n",
    "fig.delaxes(axs[14])\n",
    "fig.delaxes(axs[15])"
   ]
  },
  {
   "cell_type": "markdown",
   "metadata": {},
   "source": [
    "In order to reshape the data into a correct form for proper classification, we will one-hot encode the level2 labels of the images."
   ]
  },
  {
   "cell_type": "code",
   "execution_count": 18,
   "metadata": {},
   "outputs": [],
   "source": [
    "# Implement one-hot encoding on the target label\n",
    "one_hot_encoded_labels = pd.get_dummies(metaDF['level2'])\n",
    "\n",
    "# Identify the one-hot encoded result columns\n",
    "one_hot_encoded_columns = one_hot_encoded_labels.columns\n",
    "\n",
    "# Concatenate the columns\n",
    "metaDF = pd.concat([metaDF, one_hot_encoded_labels], axis = 1)"
   ]
  },
  {
   "cell_type": "markdown",
   "metadata": {},
   "source": [
    "Now, we will reshape our data intro a 4D-tensor of dimensions:\n",
    "- Dataset Size\n",
    "- Width\n",
    "- Height\n",
    "- Number of Channels\n",
    "\n",
    "This form is the proper input for our neural network."
   ]
  },
  {
   "cell_type": "markdown",
   "metadata": {},
   "source": [
    "It's now time to perfrom data augmentation as we will initialize an image data generator to enforce some variations to our images to make our neural network more robust to different image variations."
   ]
  },
  {
   "cell_type": "code",
   "execution_count": 19,
   "metadata": {},
   "outputs": [],
   "source": [
    "# Define a function that returns image generators for the training data and validation data\n",
    "def createDataGenerator():\n",
    "    \n",
    "    # Create a data augmentation object for the training data\n",
    "    augmenter = krs.preprocessing.image.ImageDataGenerator(rotation_range = 45,\n",
    "                                                           width_shift_range = 0.5,\n",
    "                                                           height_shift_range = 0.5,\n",
    "                                                           brightness_range = None,\n",
    "                                                           shear_range = 30,\n",
    "                                                           zoom_range = [0.7,1.1],\n",
    "                                                           channel_shift_range = 0,\n",
    "                                                           horizontal_flip = True,\n",
    "                                                           vertical_flip = True,\n",
    "                                                           rescale = 0.4,\n",
    "                                                           validation_split = 0.1)\n",
    "\n",
    "    # Create an identity data generator for the validation data\n",
    "    validationGenerator = krs.preprocessing.image.ImageDataGenerator()\n",
    "    \n",
    "    return augmenter, validationGenerator\n",
    "\n",
    "augmenter, validationGenerator = createDataGenerator()"
   ]
  },
  {
   "cell_type": "code",
   "execution_count": 20,
   "metadata": {},
   "outputs": [],
   "source": [
    "# Group the labels according to their frequency\n",
    "classDistribution = metaDF.groupby('level2')['level2'].count().sort_values(ascending  = False)\n",
    "\n",
    "# Implement bucketing for the classes according to the frequency\n",
    "rareClasses = np.array(classDistribution[classDistribution <= 500].index)\n",
    "lowFreqClasses = np.array(classDistribution[(classDistribution <= 2000) & (classDistribution > 500)].index)\n",
    "freqClasses = np.array(classDistribution[(classDistribution <= 10000) & (classDistribution > 2000)].index)\n",
    "prevalentClasses = np.array(classDistribution[(classDistribution < 138439) & (classDistribution > 10000)].index)"
   ]
  },
  {
   "cell_type": "code",
   "execution_count": 33,
   "metadata": {},
   "outputs": [],
   "source": [
    "# Define the columns for the labels and object ID's of the augmented data\n",
    "columns = ['objid']\n",
    "columns.extend(one_hot_encoded_columns)\n",
    "generatedDF = pd.DataFrame(columns = columns)\n",
    "\n",
    "\n",
    "# Retrieve image generator for image data augmentation\n",
    "imgGen, _ = createDataGenerator()\n",
    "\n",
    "rareDF = metaDF[metaDF.level2.isin(rareClasses)]\n",
    "\n",
    "rare = np.array([image_dict_resized[objid] for objid in rareDF.objid])\n",
    "\n",
    "rare = rare.reshape(rare.shape[0], width, height, 1)\n",
    "\n",
    "imgGen.fit(rare)\n",
    "\n",
    "index = len(metaDF)\n",
    "\n",
    "num_batches = 100\n",
    "\n",
    "for images, label in imgGen.flow(rare, rareDF[one_hot_encoded_columns], batch_size = len(rareDF)):\n",
    "    if num_batches == 1:\n",
    "        break\n",
    "\n",
    "    augmentedBatch = np.column_stack((np.arange(index,index+len(rareDF)), label))\n",
    "    \n",
    "    for objid, img in zip(np.arange(index,index+len(rareDF)),images):\n",
    "        image_dict_resized[objid] = img.reshape(width,height)\n",
    "    \n",
    "    generatedDF = generatedDF.append(pd.DataFrame(augmentedBatch, columns = columns))\n",
    "    index += len(rareDF)\n",
    "    num_batches -= 1\n",
    "    \n",
    "    \n",
    "    \n",
    "    \n",
    "    \n",
    "imgGen, _ = createDataGenerator()\n",
    "\n",
    "lowFreqDF = metaDF[metaDF.level2.isin(lowFreqClasses)]\n",
    "\n",
    "lowFreq = np.array([image_dict_resized[objid] for objid in lowFreqDF.objid])\n",
    "\n",
    "lowFreq = lowFreq.reshape(lowFreq.shape[0], width, height, 1)\n",
    "\n",
    "imgGen.fit(lowFreq)\n",
    "\n",
    "num_batches = 25\n",
    "\n",
    "for images, label in imgGen.flow(lowFreq, lowFreqDF[one_hot_encoded_columns], batch_size = len(lowFreqDF)):\n",
    "    \n",
    "    if num_batches == 1:\n",
    "        break\n",
    "    \n",
    "    augmentedBatch = np.column_stack((np.arange(index,index+len(lowFreqDF)), label))\n",
    "    \n",
    "    for objid, img in zip(np.arange(index,index+len(lowFreqDF)),images):\n",
    "        image_dict_resized[objid] = img.reshape(width,height)\n",
    "    \n",
    "    generatedDF = generatedDF.append(pd.DataFrame(augmentedBatch, columns = columns))\n",
    "    index += len(lowFreqDF)\n",
    "    num_batches -= 1\n",
    "    \n",
    "\n",
    "    \n",
    "    \n",
    "imgGen, _ = createDataGenerator()\n",
    "\n",
    "freqDF = metaDF[metaDF.level2.isin(freqClasses)]\n",
    "\n",
    "freq = np.array([image_dict_resized[objid] for objid in freqDF.objid])\n",
    "\n",
    "freq = freq.reshape(freq.shape[0], width, height, 1)\n",
    "\n",
    "imgGen.fit(freq)\n",
    "\n",
    "num_batches = 5\n",
    "\n",
    "\n",
    "for images, label in imgGen.flow(freq, freqDF[one_hot_encoded_columns], batch_size = len(freqDF)):\n",
    "    \n",
    "    if num_batches == 1:\n",
    "        break\n",
    "    \n",
    "    augmentedBatch = np.column_stack((np.arange(index,index+len(freqDF)), label))\n",
    "    \n",
    "    for objid, img in zip(np.arange(index,index+len(freqDF)),images):\n",
    "        image_dict_resized[objid] = img.reshape(width,height)\n",
    "    \n",
    "    generatedDF = generatedDF.append(pd.DataFrame(augmentedBatch, columns = columns))\n",
    "    index += len(freqDF)\n",
    "    num_batches -= 1\n",
    "    "
   ]
  },
  {
   "cell_type": "code",
   "execution_count": 34,
   "metadata": {},
   "outputs": [],
   "source": [
    "augmentedDF = pd.concat([metaDF[columns], generatedDF[columns]], axis = 0)\n",
    "del augmentedBatch\n",
    "del generatedDF"
   ]
  },
  {
   "cell_type": "code",
   "execution_count": 35,
   "metadata": {},
   "outputs": [
    {
     "data": {
      "image/png": "[encoded data removed]",
      "text/plain": [
       "<Figure size 864x432 with 1 Axes>"
      ]
     },
     "metadata": {},
     "output_type": "display_data"
    }
   ],
   "source": [
    "fig, ax = plt.subplots()\n",
    "fig.set_size_inches(12, 6)\n",
    "\n",
    "# Plot the cumulative distribution\n",
    "augmentedDF[one_hot_encoded_columns].sum().plot(kind=\"bar\")\n",
    "\n",
    "    \n",
    "ax.set_title('Distribution of Level-2 Labels After Augmentation')\n",
    "ax.set_xlabel('Label')\n",
    "ax.set_ylabel('Frequency')\n",
    "ax.grid(False)\n",
    "# ax.annotate(str(metaDF.level2.nunique())+' Labels', (15,75000), size = 20)\n",
    "plt.show()"
   ]
  },
  {
   "cell_type": "code",
   "execution_count": 36,
   "metadata": {},
   "outputs": [],
   "source": [
    "trainDF, testDF = train_test_split(augmentedDF, test_size = 0.2, random_state = 43)\n",
    "\n",
    "\n",
    "# train = []\n",
    "# for objid in trainDF.objid:\n",
    "#     train.append(image_dict_resized[objid])\n",
    "    \n",
    "\n",
    "# test = []\n",
    "# for objid in testDF.objid:\n",
    "#     test.append(image_dict_resized[objid])\n",
    "    \n",
    "# train = np.array(train)\n",
    "# test = np.array(test)\n",
    "\n",
    "\n",
    "train = np.array([image_dict_resized[objid] for objid in trainDF.objid], dtype = np.float32)\n",
    "test = np.array([image_dict_resized[objid] for objid in testDF.objid], dtype = np.float32)\n",
    "\n",
    "\n",
    "\n",
    "train = train.reshape(train.shape[0], width, height, 1)\n",
    "test = test.reshape(test.shape[0], width, height, 1)"
   ]
  },
  {
   "cell_type": "markdown",
   "metadata": {},
   "source": [
    "## Task 3 - Model Selection"
   ]
  },
  {
   "cell_type": "code",
   "execution_count": 27,
   "metadata": {},
   "outputs": [],
   "source": [
    "def plot_results(f1_train, f1_val, loss_train, loss_val):\n",
    "    fig = plt.figure(1)\n",
    "\n",
    "    ax1 = plt.subplot(2, 1, 1)\n",
    "\n",
    "    plt.plot(f1_train)\n",
    "    plt.plot(f1_val)\n",
    "\n",
    "    ax1.set_title('F-1 Score vs Epoch', size = 20)\n",
    "    ax1.set_xlabel('Epoch', size = 20)\n",
    "    ax1.set_ylabel('F-1 Score', size = 20)\n",
    "    ax1.tick_params('both', labelsize = 20)\n",
    "    ax1.legend(['Training Data', 'Validation Data'], prop={'size': 20})\n",
    "    ax1.grid(False)\n",
    "\n",
    "    ax2 = plt.subplot(2, 1, 2)\n",
    "\n",
    "    plt.plot(loss_train)\n",
    "    plt.plot(loss_val)\n",
    "\n",
    "    ax2.set_title('Loss vs Epoch', size = 20)\n",
    "    ax2.set_xlabel('Epoch', size = 20)\n",
    "    ax2.set_ylabel('Loss', size = 20)\n",
    "    ax2.tick_params('both', labelsize = 20)\n",
    "    ax2.legend(['Training Data', 'Validation Data'], prop={'size': 20})\n",
    "    ax2.grid(False)\n",
    "\n",
    "    fig.set_size_inches(w=25,h=25)\n",
    "\n",
    "\n",
    "    plt.show()"
   ]
  },
  {
   "cell_type": "code",
   "execution_count": 28,
   "metadata": {},
   "outputs": [],
   "source": [
    "def f1(y_true, y_pred):\n",
    "    def recall(y_true, y_pred):\n",
    "        \"\"\"Recall metric.\n",
    "\n",
    "        Only computes a batch-wise average of recall.\n",
    "\n",
    "        Computes the recall, a metric for multi-label classification of\n",
    "        how many relevant items are selected.\n",
    "        \"\"\"\n",
    "        true_positives = krs.backend.sum(krs.backend.round(krs.backend.clip(y_true * y_pred, 0, 1)))\n",
    "        possible_positives = krs.backend.sum(krs.backend.round(krs.backend.clip(y_true, 0, 1)))\n",
    "        recall = true_positives / (possible_positives + krs.backend.epsilon())\n",
    "        return recall\n",
    "\n",
    "    def precision(y_true, y_pred):\n",
    "        \"\"\"Precision metric.\n",
    "\n",
    "        Only computes a batch-wise average of precision.\n",
    "\n",
    "        Computes the precision, a metric for multi-label classification of\n",
    "        how many selected items are relevant.\n",
    "        \"\"\"\n",
    "        true_positives = krs.backend.sum(krs.backend.round(krs.backend.clip(y_true * y_pred, 0, 1)))\n",
    "        predicted_positives = krs.backend.sum(krs.backend.round(krs.backend.clip(y_pred, 0, 1)))\n",
    "        precision = true_positives / (predicted_positives + krs.backend.epsilon())\n",
    "        return precision\n",
    "    precision = precision(y_true, y_pred)\n",
    "    recall = recall(y_true, y_pred)\n",
    "    return 2*((precision*recall)/(precision+recall+krs.backend.epsilon()))"
   ]
  },
  {
   "cell_type": "code",
   "execution_count": 29,
   "metadata": {},
   "outputs": [],
   "source": [
    "def LeNet(conv_filters = [(6,5)],\n",
    "          max_pools = [(2,2)],\n",
    "          hidden_layers=[500]):\n",
    "    \n",
    "    classifier = krs.models.Sequential()\n",
    "\n",
    "    classifier.add(krs.layers.Conv2D(filters = conv_filters[0][0],\n",
    "                                     input_shape= (width, height, 1),\n",
    "                                     kernel_size = conv_filters[0][1],\n",
    "                                     activation='relu',\n",
    "                                     use_bias=True))\n",
    "\n",
    "    classifier.add(krs.layers.MaxPooling2D(pool_size=(max_pools[0][0], max_pools[0][0]),\n",
    "                                            strides= (max_pools[0][1],max_pools[0][1])))\n",
    "    \n",
    "    \n",
    "    \n",
    "    for conv, maxPool in zip(conv_filters[1:], max_pools[1:]):\n",
    "        classifier.add(krs.layers.Conv2D(filters = conv[0],\n",
    "                                         kernel_size = conv[1],\n",
    "                                         activation='relu',\n",
    "                                         use_bias=True))\n",
    "\n",
    "        classifier.add(krs.layers.MaxPooling2D(pool_size=(maxPool[0], maxPool[0]),\n",
    "                                               strides= (maxPool[1],maxPool[1])))\n",
    "\n",
    "    classifier.add(krs.layers.Flatten())\n",
    "\n",
    "    for hidden in hidden_layers:\n",
    "        classifier.add(krs.layers.Dense(units = hidden, activation='relu', use_bias=True))\n",
    "        \n",
    "    classifier.add(krs.layers.Dense(units = 39, activation='softmax', use_bias=True))\n",
    "\n",
    "    opt = krs.optime\n",
    "    classifier.compile(optimizer = 'adam',\n",
    "                       loss='categorical_crossentropy',\n",
    "                       metrics=[f1])\n",
    "    return classifier"
   ]
  },
  {
   "cell_type": "code",
   "execution_count": 26,
   "metadata": {
    "scrolled": false
   },
   "outputs": [],
   "source": [
    "# smallTrainDF = trainDF.sample(frac = 0.2, random_state = 13)\n",
    "# # smallValDF = smallTrainDF.sample(frac = 0.2, random_state = 64)\n",
    "\n",
    "# small_train = np.array([image_dict_resized[objid] for objid in smallTrainDF.objid])\n",
    "# # small_val = np.array([image_dict_resized[objid] for objid in smallValDF.objid])\n",
    "\n",
    "# small_train = small_train.reshape(small_train.shape[0], width, height, 1)\n",
    "# # small_val = small_val.reshape(small_val.shape[0], width, height, 1)\n",
    "\n",
    "# epochs = 15\n",
    "\n",
    "# folds = 10\n",
    "\n",
    "# stkf = KFold(n_splits=folds,shuffle=False)\n",
    "\n",
    "# loss_train = np.zeros(epochs)\n",
    "# loss_val = np.zeros(epochs)\n",
    "# f1_train = np.zeros(epochs)\n",
    "# f1_val = np.zeros(epochs)\n",
    "\n",
    "# for i, (train_index, val_index) in enumerate(stkf.split(smallTrainDF)):\n",
    "#     print(\"Fold:\", i+1)\n",
    "#     Error when checking input: expected conv2d_1_input to have 4 dimensions\n",
    "#     classifier = LeNet(conv_filters = [(32,5)], max_pools = [(2,2)], hidden_layers=[500])\n",
    "    \n",
    "#     history = classifier.fit_generator(augmenter.flow(small_train[train_index],\n",
    "#                                                       smallTrainDF[one_hot_encoded_columns].iloc[train_index],\n",
    "#                                                       batch_size=64),\n",
    "#                                        epochs=epochs,\n",
    "#                                        verbose = 0,\n",
    "#                                        validation_data=validationGenerator.flow(small_train[val_index],\n",
    "#                                                                                 smallTrainDF[one_hot_encoded_columns].iloc[val_index],\n",
    "#                                                                                 batch_size=32),\n",
    "#                                        validation_steps = len(val_index))\n",
    "\n",
    "\n",
    "\n",
    "#     loss_train += history.history['loss']\n",
    "#     loss_val += history.history['val_loss']\n",
    "#     f1_train += history.history['f1']\n",
    "#     f1_val += history.history['val_f1']\n",
    "    \n",
    "#     print(\"Loss:\", history.history['loss'][-1],\n",
    "#           \"F1:\", history.history['f1'][-1],\n",
    "#           \"Val_Loss:\", history.history['val_loss'][-1],\n",
    "#           \"Val_F1:\", history.history['val_f1'][-1])\n",
    "#     print(\"-------------------------------------------------------------------------------------------\")\n",
    "\n",
    "# loss_train /= folds\n",
    "# loss_val /= folds\n",
    "# f1_train /= folds\n",
    "# f1_val /= folds"
   ]
  },
  {
   "cell_type": "code",
   "execution_count": 27,
   "metadata": {},
   "outputs": [],
   "source": [
    "# plot_results(f1_train, f1_val, loss_train,loss_val)"
   ]
  },
  {
   "cell_type": "code",
   "execution_count": 28,
   "metadata": {},
   "outputs": [],
   "source": [
    "def alexNet(conv_filters1 = [(64,5),(128,3)],\n",
    "            max_pools1 = [2,2],\n",
    "            conv_filters2 = [(256,3),(128,3)],\n",
    "            max_pools2 = [2],\n",
    "            hidden_layers=[150,100]):\n",
    "    \n",
    "    classifier = krs.models.Sequential()\n",
    "    \n",
    "    classifier.add(krs.layers.Conv2D(filters = conv_filters1[0][0],\n",
    "                                     input_shape= (width, height, 1),\n",
    "                                     kernel_size = conv_filters1[0][1],\n",
    "                                     activation='relu'))\n",
    "\n",
    "    classifier.add(krs.layers.MaxPooling2D(pool_size=max_pools1[0]))\n",
    "    \n",
    "    \n",
    "    for conv, maxPool in zip(conv_filters1[1:],max_pools1[1:]):\n",
    "        classifier.add(krs.layers.Conv2D(filters = conv[0],\n",
    "                                         kernel_size = conv[1],\n",
    "                                         activation='relu'))\n",
    "\n",
    "        classifier.add(krs.layers.MaxPooling2D(pool_size=maxPool))\n",
    "    \n",
    "    for conv in conv_filters2:\n",
    "        classifier.add(krs.layers.Conv2D(filters = conv[0],\n",
    "                                         kernel_size = conv[1],\n",
    "                                         activation='relu'))\n",
    "    for maxPool in max_pools2:\n",
    "        classifier.add(krs.layers.MaxPooling2D(pool_size=maxPool))\n",
    "\n",
    "    classifier.add(krs.layers.Flatten())\n",
    "    \n",
    "    for hidden_layer in hidden_layers:\n",
    "        classifier.add(krs.layers.Dense(units = hidden_layer, activation='relu', use_bias=True))\n",
    "\n",
    "    classifier.add(krs.layers.Dense(units = 39, activation='softmax', use_bias=True))\n",
    "\n",
    "    classifier.compile(optimizer = 'adam',\n",
    "                       loss='categorical_crossentropy',\n",
    "                       metrics=[f1])\n",
    "    return classifier"
   ]
  },
  {
   "cell_type": "code",
   "execution_count": 29,
   "metadata": {
    "scrolled": false
   },
   "outputs": [],
   "source": [
    "# smallTrainDF = trainDF.sample(frac = 0.2, random_state = 13)\n",
    "# # smallValDF = smallTrainDF.sample(frac = 0.2, random_state = 64)\n",
    "\n",
    "# small_train = np.array([image_dict_resized[objid] for objid in smallTrainDF.objid])\n",
    "# # small_val = np.array([image_dict_resized[objid] for objid in smallValDF.objid])\n",
    "\n",
    "# small_train = small_train.reshape(small_train.shape[0], width, height, 1)\n",
    "# # small_val = small_val.reshape(small_val.shape[0], width, height, 1)\n",
    "\n",
    "# epochs = 15\n",
    "\n",
    "# folds = 10\n",
    "\n",
    "# stkf = KFold(n_splits=folds,shuffle=False)\n",
    "\n",
    "# loss_train = np.zeros(epochs)\n",
    "# loss_val = np.zeros(epochs)\n",
    "# f1_train = np.zeros(epochs)\n",
    "# f1_val = np.zeros(epochs)\n",
    "\n",
    "# for i, (train_index, val_index) in enumerate(stkf.split(smallTrainDF)):\n",
    "#     print(\"Fold:\", i+1)\n",
    "    \n",
    "#     classifier = alexNet()\n",
    "    \n",
    "#     history = classifier.fit_generator(augmenter.flow(small_train[train_index],\n",
    "#                                                       smallTrainDF[one_hot_encoded_columns].iloc[train_index],\n",
    "#                                                       batch_size=64),\n",
    "#                                        epochs=epochs,\n",
    "#                                        verbose = 0,\n",
    "#                                        validation_data=validationGenerator.flow(small_train[val_index],\n",
    "#                                                                                 smallTrainDF[one_hot_encoded_columns].iloc[val_index],\n",
    "#                                                                                 batch_size=32),\n",
    "#                                        validation_steps = len(val_index))\n",
    "#     loss_train += history.history['loss']\n",
    "#     loss_val += history.history['val_loss']\n",
    "#     f1_train += history.history['f1']\n",
    "#     f1_val += history.history['val_f1']\n",
    "    \n",
    "#     print(\"Loss:\", history.history['loss'][-1],\n",
    "#           \"F1:\", history.history['f1'][-1],\n",
    "#           \"Val_Loss:\", history.history['val_loss'][-1],\n",
    "#           \"Val_F1:\", history.history['val_f1'][-1])\n",
    "#     print(\"-------------------------------------------------------------------------------------------\")\n",
    "\n",
    "# loss_train /= folds\n",
    "# loss_val /= folds\n",
    "# f1_train /= folds\n",
    "# f1_val /= folds"
   ]
  },
  {
   "cell_type": "code",
   "execution_count": 30,
   "metadata": {},
   "outputs": [],
   "source": [
    "# plot_results(f1_train, f1_val, loss_train,loss_val)"
   ]
  },
  {
   "cell_type": "code",
   "execution_count": 42,
   "metadata": {},
   "outputs": [],
   "source": [
    "def VGGNet(conv_filters1 = [(16,5),(32,3)],\n",
    "            conv_filters2 = [(64,3),(128,3),(128,3)],\n",
    "            hidden_layers=[256,256,128]):\n",
    "    \n",
    "    classifier = krs.models.Sequential()\n",
    "    \n",
    "    classifier.add(krs.layers.Conv2D(filters = conv_filters1[0][0],\n",
    "                                 input_shape= (width, height, 1),\n",
    "                                 kernel_size = conv_filters1[0][1],\n",
    "                                 padding = 'same',\n",
    "                                 activation='relu'))\n",
    "    \n",
    "    classifier.add(krs.layers.Conv2D(filters = conv_filters1[0][0],\n",
    "                                 kernel_size = conv_filters1[0][1],\n",
    "                                 padding = 'same',\n",
    "                                 activation='relu'))\n",
    "    \n",
    "    classifier.add(krs.layers.MaxPooling2D(pool_size=2))\n",
    "\n",
    "    \n",
    "    for conv in conv_filters1[1:]:\n",
    "        classifier.add(krs.layers.Conv2D(filters = conv[0],\n",
    "                                         kernel_size = conv[1],\n",
    "                                         padding = 'same',\n",
    "                                         activation='relu'))\n",
    "        \n",
    "        classifier.add(krs.layers.Conv2D(filters = conv[0],\n",
    "                                         input_shape= (width, height, 1),\n",
    "                                         kernel_size = conv[1],\n",
    "                                         padding = 'same',\n",
    "                                         activation='relu'))\n",
    "\n",
    "        classifier.add(krs.layers.MaxPooling2D(pool_size=2))\n",
    "    \n",
    "    for conv in conv_filters2:\n",
    "        classifier.add(krs.layers.Conv2D(filters = conv[0],\n",
    "                                         kernel_size = conv[1],\n",
    "                                         padding = 'same',\n",
    "                                         activation='relu'))\n",
    "        \n",
    "        classifier.add(krs.layers.Conv2D(filters = conv[0],\n",
    "                                         kernel_size = conv[1],\n",
    "                                         padding = 'same',\n",
    "                                         activation='relu'))\n",
    "        \n",
    "        classifier.add(krs.layers.Conv2D(filters = conv[0],\n",
    "                                         kernel_size = conv[1],\n",
    "                                         padding = 'same',\n",
    "                                         activation='relu'))\n",
    "        \n",
    "        classifier.add(krs.layers.MaxPooling2D(pool_size=2))        \n",
    "\n",
    "    classifier.add(krs.layers.Flatten())\n",
    "    \n",
    "    for hidden_layer in hidden_layers:\n",
    "        classifier.add(krs.layers.Dense(units = hidden_layer, activation='relu', use_bias=True))\n",
    "\n",
    "    classifier.add(krs.layers.Dense(units = 39, activation='softmax', use_bias=True))\n",
    "\n",
    "    opt = krs.optimizers.SGD(lr=0.1, momentum=0.0, decay=0.0, nesterov=False)\n",
    "    \n",
    "    classifier.compile(optimizer = opt,\n",
    "                       loss='categorical_crossentropy',\n",
    "                       metrics=['accuracy'])\n",
    "    return classifier"
   ]
  },
  {
   "cell_type": "code",
   "execution_count": 32,
   "metadata": {
    "scrolled": false
   },
   "outputs": [],
   "source": [
    "# smallTrainDF = trainDF.sample(frac = 0.2, random_state = 13)\n",
    "# # smallValDF = smallTrainDF.sample(frac = 0.2, random_state = 64)\n",
    "\n",
    "# small_train = np.array([image_dict_resized[objid] for objid in smallTrainDF.objid])\n",
    "# # small_val = np.array([image_dict_resized[objid] for objid in smallValDF.objid])\n",
    "\n",
    "# small_train = small_train.reshape(small_train.shape[0], width, height, 1)\n",
    "# # small_val = small_val.reshape(small_val.shape[0], width, height, 1)\n",
    "\n",
    "# epochs = 15\n",
    "\n",
    "# folds = 10\n",
    "\n",
    "# stkf = KFold(n_splits=folds,shuffle=False)\n",
    "\n",
    "# loss_train = np.zeros(epochs)\n",
    "# loss_val = np.zeros(epochs)\n",
    "# f1_train = np.zeros(epochs)\n",
    "# f1_val = np.zeros(epochs)\n",
    "\n",
    "# for i, (train_index, val_index) in enumerate(stkf.split(smallTrainDF)):\n",
    "#     print(\"Fold:\", i+1)\n",
    "    \n",
    "#     classifier = VGGNet(conv_filters1 = [(8,5),(16,3)],\n",
    "#                         conv_filters2 = [(32,3),(64,3),(64,3)],\n",
    "#                         hidden_layers=[128,128,80])\n",
    "    \n",
    "#     history = classifier.fit_generator(augmenter.flow(small_train[train_index],\n",
    "#                                                       smallTrainDF[one_hot_encoded_columns].iloc[train_index],\n",
    "#                                                       batch_size=64),\n",
    "#                                        epochs=epochs,\n",
    "#                                        verbose = 1,\n",
    "#                                        validation_data=validationGenerator.flow(small_train[val_index],\n",
    "#                                                                                 smallTrainDF[one_hot_encoded_columns].iloc[val_index],\n",
    "#                                                                                 batch_size=32),\n",
    "#                                        validation_steps = 100)\n",
    "#     loss_train += history.history['loss']\n",
    "#     loss_val += history.history['val_loss']\n",
    "#     f1_train += history.history['f1']\n",
    "#     f1_val += history.history['val_f1']\n",
    "    \n",
    "#     print(\"Loss:\", history.history['loss'][-1],\n",
    "#           \"F1:\", history.history['f1'][-1],\n",
    "#           \"Val_Loss:\", history.history['val_loss'][-1],\n",
    "#           \"Val_F1:\", history.history['val_f1'][-1])\n",
    "#     print(\"-------------------------------------------------------------------------------------------\")\n",
    "\n",
    "# loss_train /= folds\n",
    "# loss_val /= folds\n",
    "# f1_train /= folds\n",
    "# f1_val /= folds"
   ]
  },
  {
   "cell_type": "code",
   "execution_count": 33,
   "metadata": {},
   "outputs": [],
   "source": [
    "# plot_results(f1_train, f1_val, loss_train,loss_val)"
   ]
  },
  {
   "cell_type": "code",
   "execution_count": 34,
   "metadata": {},
   "outputs": [],
   "source": [
    "def _after_conv(in_tensor):\n",
    "    norm = krs.layers.BatchNormalization()(in_tensor)\n",
    "    return krs.layers.Activation('relu')(norm)\n",
    "\n",
    "def conv1(in_tensor, filters):\n",
    "    conv = krs.layers.Conv2D(filters, kernel_size=1, strides=1)(in_tensor)\n",
    "    return _after_conv(conv)\n",
    "\n",
    "def conv1_downsample(in_tensor, filters):\n",
    "    conv = krs.layers.Conv2D(filters, kernel_size=1, strides=2)(in_tensor)\n",
    "    return _after_conv(conv)\n",
    "\n",
    "def conv3(in_tensor, filters):\n",
    "    conv = krs.layers.Conv2D(filters, kernel_size=3, strides=1, padding='same')(in_tensor)\n",
    "    return _after_conv(conv)\n",
    "\n",
    "def conv3_downsample(in_tensor, filters):\n",
    "    conv = krs.layers.Conv2D(filters, kernel_size=3, strides=2, padding='same')(in_tensor)\n",
    "    return _after_conv(conv)\n",
    "\n",
    "def resnet_block_wo_bottlneck(in_tensor, filters, downsample=False):\n",
    "    if downsample:\n",
    "        conv1_rb = conv3_downsample(in_tensor, filters)\n",
    "    else:\n",
    "        conv1_rb = conv3(in_tensor, filters)\n",
    "    conv2_rb = conv3(conv1_rb, filters)\n",
    "\n",
    "    if downsample:\n",
    "        in_tensor = conv1_downsample(in_tensor, filters)\n",
    "    result = krs.layers.Add()([conv2_rb, in_tensor])\n",
    "\n",
    "    return krs.layers.Activation('relu')(result)\n",
    "\n",
    "def resnet_block_w_bottlneck(in_tensor,\n",
    "                             filters,\n",
    "                             downsample=False,\n",
    "                             change_channels=False):\n",
    "    if downsample:\n",
    "        conv1_rb = conv1_downsample(in_tensor, int(filters/4))\n",
    "    else:\n",
    "        conv1_rb = conv1(in_tensor, int(filters/4))\n",
    "    conv2_rb = conv3(conv1_rb, int(filters/4))\n",
    "    conv3_rb = conv1(conv2_rb, filters)\n",
    "\n",
    "    if downsample:\n",
    "        in_tensor = conv1_downsample(in_tensor, filters)\n",
    "    elif change_channels:\n",
    "        in_tensor = conv1(in_tensor, filters)\n",
    "    result = krs.layers.Add()([conv3_rb, in_tensor])\n",
    "\n",
    "    return result\n",
    "\n",
    "def _pre_res_blocks(in_tensor, filters = 64, filter_size = 7):\n",
    "    conv = krs.layers.Conv2D(filters, filter_size, strides=2, padding='same')(in_tensor)\n",
    "    conv = _after_conv(conv)\n",
    "    pool = krs.layers.MaxPool2D(3, 2, padding='same')(conv)\n",
    "    return pool\n",
    "\n",
    "def _post_res_blocks(in_tensor, n_classes):\n",
    "    pool = krs.layers.GlobalAvgPool2D()(in_tensor)\n",
    "    preds = krs.layers.Dense(n_classes, activation='softmax')(pool)\n",
    "    return preds\n",
    "\n",
    "def convx_wo_bottleneck(in_tensor, filters, n_times, downsample_1=False):\n",
    "    res = in_tensor\n",
    "    for i in range(n_times):\n",
    "        if i == 0:\n",
    "            res = resnet_block_wo_bottlneck(res, filters, downsample_1)\n",
    "        else:\n",
    "            res = resnet_block_wo_bottlneck(res, filters)\n",
    "    return res\n",
    "\n",
    "def convx_w_bottleneck(in_tensor, filters, n_times, downsample_1=False):\n",
    "    res = in_tensor\n",
    "    for i in range(n_times):\n",
    "        if i == 0:\n",
    "            res = resnet_block_w_bottlneck(res, filters, downsample_1, not downsample_1)\n",
    "        else:\n",
    "            res = resnet_block_w_bottlneck(res, filters)\n",
    "    return res\n",
    "\n",
    "def _resnet(in_shape=(32,32,1),\n",
    "            n_classes=39,\n",
    "            opt='adam',\n",
    "            convx=[64, 64, 128, 256, 512],\n",
    "            n_convx=[7, 2, 2, 2, 2],\n",
    "            convx_fn=convx_wo_bottleneck):\n",
    "    in_layer = krs.layers.Input(in_shape)\n",
    "\n",
    "    downsampled = _pre_res_blocks(in_layer, convx[0], n_convx[0])\n",
    "\n",
    "    conv2x = convx_fn(downsampled, convx[1], n_convx[1])\n",
    "    conv3x = convx_fn(conv2x, convx[2], n_convx[2], True)\n",
    "    conv4x = convx_fn(conv3x, convx[3], n_convx[3], True)\n",
    "    conv5x = convx_fn(conv4x, convx[4], n_convx[4], True)\n",
    "\n",
    "    preds = _post_res_blocks(conv5x, n_classes)\n",
    "\n",
    "    model = krs.models.Model(in_layer, preds)\n",
    "    model.compile(loss=\"categorical_crossentropy\", optimizer=opt,\n",
    "\t              metrics=[f1])\n",
    "    return model\n",
    "\n",
    "def resnet18(in_shape=(32,32,1), n_classes=39, opt='adam'):\n",
    "    return _resnet(in_shape, n_classes, opt)\n",
    "\n",
    "def resnet34(in_shape=(32,32,1), n_classes=39, opt='adam'):\n",
    "    return _resnet(in_shape,\n",
    "                  n_classes,\n",
    "                  opt,\n",
    "                  n_convx=[7, 3, 4, 6, 3])\n",
    "\n",
    "def resnet50(in_shape=(32,32,1), n_classes=39, opt='adam'):\n",
    "    return _resnet(in_shape,\n",
    "                  n_classes,\n",
    "                  opt,\n",
    "                  [64, 256, 512, 1024, 2048],\n",
    "                  [7, 3, 4, 6, 3],\n",
    "                  convx_w_bottleneck)\n",
    "\n",
    "def resnet101(in_shape=(32,32,1), n_classes=39, opt='adam'):\n",
    "    return _resnet(in_shape,\n",
    "                  n_classes,\n",
    "                  opt,\n",
    "                  [64, 256, 512, 1024, 2048],\n",
    "                  [7, 3, 4, 23, 3],\n",
    "                  convx_w_bottleneck)\n",
    "\n",
    "def resnet152(in_shape=(32,32,1), n_classes=39, opt='adam'):\n",
    "    return _resnet(in_shape,\n",
    "                  n_classes,\n",
    "                  opt,\n",
    "                  [64, 256, 512, 1024, 2048],\n",
    "                  [7, 3, 8, 36, 3],\n",
    "                  convx_w_bottleneck)"
   ]
  },
  {
   "cell_type": "code",
   "execution_count": 35,
   "metadata": {},
   "outputs": [],
   "source": [
    "# smallTrainDF = trainDF.sample(frac = 0.2, random_state = 13)\n",
    "# # smallValDF = smallTrainDF.sample(frac = 0.2, random_state = 64)\n",
    "\n",
    "# small_train = np.array([image_dict_resized[objid] for objid in smallTrainDF.objid])\n",
    "# # small_val = np.array([image_dict_resized[objid] for objid in smallValDF.objid])\n",
    "\n",
    "# small_train = small_train.reshape(small_train.shape[0], width, height, 1)\n",
    "# # small_val = small_val.reshape(small_val.shape[0], width, height, 1)\n",
    "\n",
    "# epochs = 15\n",
    "\n",
    "# folds = 10\n",
    "\n",
    "# stkf = KFold(n_splits=folds,shuffle=False)\n",
    "\n",
    "# loss_train = np.zeros(epochs)\n",
    "# loss_val = np.zeros(epochs)\n",
    "# f1_train = np.zeros(epochs)\n",
    "# f1_val = np.zeros(epochs)\n",
    "\n",
    "# for i, (train_index, val_index) in enumerate(stkf.split(smallTrainDF)):\n",
    "#     print(\"Fold:\", i+1)\n",
    "    \n",
    "#     classifier = _resnet(in_shape=(32,32,1),\n",
    "#                         n_classes=39,\n",
    "#                         opt='adam',\n",
    "#                         convx=[3, 3, 3, 3, 3],\n",
    "#                         n_convx=[3, 2, 2, 2, 2],\n",
    "#                         convx_fn=convx_wo_bottleneck)\n",
    "    \n",
    "#     history = classifier.fit_generator(augmenter.flow(small_train[train_index],\n",
    "#                                                       smallTrainDF[one_hot_encoded_columns].iloc[train_index],\n",
    "#                                                       batch_size=64),\n",
    "#                                        epochs=epochs,\n",
    "#                                        verbose = 0,\n",
    "#                                        validation_data=validationGenerator.flow(small_train[val_index],\n",
    "#                                                                                 smallTrainDF[one_hot_encoded_columns].iloc[val_index],\n",
    "#                                                                                 batch_size=32),\n",
    "#                                        validation_steps = len(val_index))\n",
    "#     loss_train += history.history['loss']\n",
    "#     loss_val += history.history['val_loss']\n",
    "#     f1_train += history.history['f1']\n",
    "#     f1_val += history.history['val_f1']\n",
    "    \n",
    "#     print(\"Loss:\", history.history['loss'][-1],\n",
    "#           \"F1:\", history.history['f1'][-1],\n",
    "#           \"Val_Loss:\", history.history['val_loss'][-1],\n",
    "#           \"Val_F1:\", history.history['val_f1'][-1])\n",
    "#     print(\"-------------------------------------------------------------------------------------------\")\n",
    "\n",
    "# loss_train /= folds\n",
    "# loss_val /= folds\n",
    "# f1_train /= folds\n",
    "# f1_val /= folds"
   ]
  },
  {
   "cell_type": "code",
   "execution_count": 36,
   "metadata": {},
   "outputs": [],
   "source": [
    "# plot_results(f1_train, f1_val, loss_train,loss_val)"
   ]
  },
  {
   "cell_type": "markdown",
   "metadata": {},
   "source": [
    "### Train on the whole Dataset"
   ]
  },
  {
   "cell_type": "code",
   "execution_count": 37,
   "metadata": {},
   "outputs": [],
   "source": [
    "# estimDF, valDF = train_test_split(trainDF, test_size = 0.2, random_state = 4)\n",
    "\n",
    "# estimData = np.array([image_dict_resized[objid] for objid in estimDF.objid])\n",
    "# valData = np.array([image_dict_resized[objid] for objid in valDF.objid])\n",
    "\n",
    "# estimData = estimData.reshape(estimData.shape[0], width, height, 1)\n",
    "# valData = valData.reshape(valData.shape[0], width, height, 1)"
   ]
  },
  {
   "cell_type": "code",
   "execution_count": null,
   "metadata": {},
   "outputs": [],
   "source": [
    "epochs = 10\n",
    "    \n",
    "classifier = VGGNet(conv_filters1 = [(8,5),(16,3)],\n",
    "                    conv_filters2 = [(32,3),(64,3),(64,3)],\n",
    "                    hidden_layers=[128,128,80])\n",
    "\n",
    "history = classifier.fit(x=train, \n",
    "                         y=trainDF[one_hot_encoded_columns],\n",
    "                         batch_size=256,\n",
    "                         epochs=epochs, \n",
    "                         verbose=1, \n",
    "                         callbacks=None, \n",
    "                         validation_split=0.2, \n",
    "                         validation_data=None, \n",
    "                         shuffle=True, \n",
    "                         class_weight=None, \n",
    "                         sample_weight=None, \n",
    "                         initial_epoch=0, \n",
    "                         steps_per_epoch=None, \n",
    "                         validation_steps=None)\n"
   ]
  },
  {
   "cell_type": "code",
   "execution_count": null,
   "metadata": {},
   "outputs": [],
   "source": []
  },
  {
   "cell_type": "code",
   "execution_count": null,
   "metadata": {},
   "outputs": [],
   "source": []
  }
 ],
 "metadata": {
  "kernelspec": {
   "display_name": "Python 3",
   "language": "python",
   "name": "python3"
  },
  "language_info": {
   "codemirror_mode": {
    "name": "ipython",
    "version": 3
   },
   "file_extension": ".py",
   "mimetype": "text/x-python",
   "name": "python",
   "nbconvert_exporter": "python",
   "pygments_lexer": "ipython3",
   "version": "3.5.2"
  }
 },
 "nbformat": 4,
 "nbformat_minor": 2
}
